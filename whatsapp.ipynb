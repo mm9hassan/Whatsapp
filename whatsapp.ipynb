{
 "cells": [
  {
   "cell_type": "code",
   "execution_count": 9,
   "metadata": {},
   "outputs": [],
   "source": [
    "import pandas as pd\n",
    "import re\n",
    "from datetime import datetime\n"
   ]
  },
  {
   "cell_type": "code",
   "execution_count": null,
   "metadata": {},
   "outputs": [],
   "source": []
  },
  {
   "cell_type": "code",
   "execution_count": 10,
   "metadata": {},
   "outputs": [],
   "source": [
    "text=open('Fareed.txt','r',encoding='utf-8')\n",
    "file=text.read()\n",
    "\n",
    "date=re.findall('\\d{1,2}/\\d{1,2}/\\d{2,4},\\s\\d{1,2}:\\d{1,2}\\s-\\s',file)\n",
    "\n",
    "user=re.split('\\d{1,2}/\\d{1,2}/\\d{2,4},\\s\\d{1,2}:\\d{1,2}\\s-\\s',file)[1:]\n",
    "text.close()\n",
    "df=pd.DataFrame({'date':date,'user':user})\n",
    "id=[]\n",
    "message=[]\n",
    "for i in df['user']:\n",
    "    f=re.split('([\\w\\W]+?):\\s',i)\n",
    "    if f[1:]:\n",
    "        id.append(f[1])\n",
    "        message.append(' '.join(f[2:]))\n",
    "    else:\n",
    "        id.append('notification')\n",
    "        message.append(f[0])\n",
    "\n",
    "df['user']=id\n",
    "df['message']=message\n",
    "df['date']=pd.to_datetime(df['date'],format='%d/%m/%Y, %H:%M - ')\n",
    "df['day']=df['date'].dt.day_name()\n",
    "df['month']=df['date'].dt.month_name()\n",
    "df['year']=df['date'].dt.year"
   ]
  },
  {
   "cell_type": "code",
   "execution_count": 11,
   "metadata": {},
   "outputs": [
    {
     "data": {
      "text/html": [
       "<div>\n",
       "<style scoped>\n",
       "    .dataframe tbody tr th:only-of-type {\n",
       "        vertical-align: middle;\n",
       "    }\n",
       "\n",
       "    .dataframe tbody tr th {\n",
       "        vertical-align: top;\n",
       "    }\n",
       "\n",
       "    .dataframe thead th {\n",
       "        text-align: right;\n",
       "    }\n",
       "</style>\n",
       "<table border=\"1\" class=\"dataframe\">\n",
       "  <thead>\n",
       "    <tr style=\"text-align: right;\">\n",
       "      <th></th>\n",
       "      <th>date</th>\n",
       "      <th>user</th>\n",
       "      <th>message</th>\n",
       "      <th>day</th>\n",
       "      <th>month</th>\n",
       "      <th>year</th>\n",
       "    </tr>\n",
       "  </thead>\n",
       "  <tbody>\n",
       "    <tr>\n",
       "      <th>0</th>\n",
       "      <td>2021-02-17 12:30:00</td>\n",
       "      <td>notification</td>\n",
       "      <td>Messages and calls are end-to-end encrypted. N...</td>\n",
       "      <td>Wednesday</td>\n",
       "      <td>February</td>\n",
       "      <td>2021</td>\n",
       "    </tr>\n",
       "    <tr>\n",
       "      <th>1</th>\n",
       "      <td>2021-02-17 12:30:00</td>\n",
       "      <td>notification</td>\n",
       "      <td>This chat is with a business account. Tap to l...</td>\n",
       "      <td>Wednesday</td>\n",
       "      <td>February</td>\n",
       "      <td>2021</td>\n",
       "    </tr>\n",
       "    <tr>\n",
       "      <th>2</th>\n",
       "      <td>2021-02-17 17:35:00</td>\n",
       "      <td>notification</td>\n",
       "      <td>This chat is with a business account. Tap to l...</td>\n",
       "      <td>Wednesday</td>\n",
       "      <td>February</td>\n",
       "      <td>2021</td>\n",
       "    </tr>\n",
       "    <tr>\n",
       "      <th>3</th>\n",
       "      <td>2021-02-18 07:48:00</td>\n",
       "      <td>Hassan Fareed</td>\n",
       "      <td>Mojy woh slip ki Pick sent kr do\\n</td>\n",
       "      <td>Thursday</td>\n",
       "      <td>February</td>\n",
       "      <td>2021</td>\n",
       "    </tr>\n",
       "    <tr>\n",
       "      <th>4</th>\n",
       "      <td>2021-02-18 07:48:00</td>\n",
       "      <td>Hassan Fareed</td>\n",
       "      <td>Larka ly k ghr a jiye gha dyny 😘\\n</td>\n",
       "      <td>Thursday</td>\n",
       "      <td>February</td>\n",
       "      <td>2021</td>\n",
       "    </tr>\n",
       "  </tbody>\n",
       "</table>\n",
       "</div>"
      ],
      "text/plain": [
       "                 date           user  \\\n",
       "0 2021-02-17 12:30:00   notification   \n",
       "1 2021-02-17 12:30:00   notification   \n",
       "2 2021-02-17 17:35:00   notification   \n",
       "3 2021-02-18 07:48:00  Hassan Fareed   \n",
       "4 2021-02-18 07:48:00  Hassan Fareed   \n",
       "\n",
       "                                             message        day     month  \\\n",
       "0  Messages and calls are end-to-end encrypted. N...  Wednesday  February   \n",
       "1  This chat is with a business account. Tap to l...  Wednesday  February   \n",
       "2  This chat is with a business account. Tap to l...  Wednesday  February   \n",
       "3                 Mojy woh slip ki Pick sent kr do\\n   Thursday  February   \n",
       "4                 Larka ly k ghr a jiye gha dyny 😘\\n   Thursday  February   \n",
       "\n",
       "   year  \n",
       "0  2021  \n",
       "1  2021  \n",
       "2  2021  \n",
       "3  2021  \n",
       "4  2021  "
      ]
     },
     "execution_count": 11,
     "metadata": {},
     "output_type": "execute_result"
    }
   ],
   "source": [
    "df.head()"
   ]
  },
  {
   "cell_type": "code",
   "execution_count": null,
   "metadata": {},
   "outputs": [],
   "source": []
  }
 ],
 "metadata": {
  "kernelspec": {
   "display_name": "Python 3.10.6 64-bit",
   "language": "python",
   "name": "python3"
  },
  "language_info": {
   "codemirror_mode": {
    "name": "ipython",
    "version": 3
   },
   "file_extension": ".py",
   "mimetype": "text/x-python",
   "name": "python",
   "nbconvert_exporter": "python",
   "pygments_lexer": "ipython3",
   "version": "3.10.6"
  },
  "orig_nbformat": 4,
  "vscode": {
   "interpreter": {
    "hash": "369f2c481f4da34e4445cda3fffd2e751bd1c4d706f27375911949ba6bb62e1c"
   }
  }
 },
 "nbformat": 4,
 "nbformat_minor": 2
}
